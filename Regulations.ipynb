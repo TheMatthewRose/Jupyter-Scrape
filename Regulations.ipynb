{
 "cells": [
  {
   "cell_type": "code",
   "execution_count": 1,
   "metadata": {},
   "outputs": [],
   "source": [
    "import requests\n",
    "import json"
   ]
  },
  {
   "cell_type": "markdown",
   "metadata": {},
   "source": [
    "Reference: https://open.gsa.gov/api/regulationsgov/\n",
    "\n",
    "## API Description\n",
    "Regulations.gov offers a GET API for documents, comments, and dockets and a POST API for comments. \n",
    "\n",
    "These endpoints can be used for \n",
    "- searching documents, \n",
    "- comments,\n",
    "- dockets, \n",
    "- and posting a comment.\n",
    "\n",
    "## Searching for documents\n",
    "You can search for a list of documents based on the criteria passed by using the endpoint __/v4/documents__. The search operation supports full text keyword searches and filtering based on a number of available parameters.\n",
    "\n",
    "## You can also obtain detailed information for a single document\n",
    "In order to obtain more details about a single document, you can use the endpoint __/v4/documents/{documentId}__. \n",
    "\n",
    "A document is defined by one of the following types: \n",
    "- Proposed Rule, \n",
    "- Rule, \n",
    "- Supporting & Related, \n",
    "- or Other. \n",
    "\n",
    "Each document type has its own set of attributes, which vary based on the Agency posting the document. \n",
    "\n",
    "Another defining characteristic is if the document is part of a Rulemaking or Nonrulemaking Docket.\n",
    "\n",
    "You can choose to include attachments using __include__ parameter. Attachments are not included by default.\n",
    "\n",
    "## Searching for comments\n",
    "\n",
    "You can search for a list of comments based on the criteria passed by using the endpoint __/v4/comments__. The search operation supports full text keyword searches and filtering based on a number of available parameters.\n",
    "\n",
    "## Detailed information for a single comment\n",
    "In order to obtain more details about a single comment, you can use the endpoint __/v4/comments/{commentId}__. \n",
    "\n",
    "Each comment has its own set of attributes, which vary based on the Agency posting the comment. \n",
    "\n",
    "Another defining characteristic is if the comment is part of a Rulemaking or Nonrulemaking Docket.\n",
    "\n",
    "You can choose to include attachments using __include__ parameter. Attachments are not included by default.\n",
    "\n",
    "## Searching for dockets\n",
    "A docket is an organizational folder containing multiple documents. Dockets can be searched using the endpoint: __/v4/dockets__.\n",
    "\n",
    "## Detailed information for a single docket\n",
    "In order to obtain more details about a single docket, you can use the endpoint __/v4/dockets/{docketId}__. \n",
    "\n",
    "Each docket has its own set of attributes, which vary based on the Agency posting the docket. Another defining characteristic is if the docket is a Rulemaking or a Nonrulemaking Docket\n",
    "\n",
    "## Posting a comment\n",
    "User can post a comment using the endpoint /v4/comments. User can post the comment using one of the following submitter types:\n",
    "\n",
    "__Individual__\n",
    "__Organization__\n",
    "__Anonymous__\n",
    "\n",
    "If user would like to attach files with their submission, user can get a presigned url for the amazon s3 bucket using the endpoint __/v4/file-upload-urls__\n",
    "\n",
    "A submissionKey can be retrieved using __/v4/submission-keys__ endpoint.\n",
    "\n",
    "submissionType should be set to API.\n",
    "\n",
    "- Search for term covid:\n",
    "```https://api.regulations.gov/v4/documents?filter[searchTerm]=covid&api_key=DEMO_KEY```\n",
    "- Filter documents by a specific date:\n",
    "```https://api.regulations.gov/v4/documents?filter[postedDate]=2020-09-01&api_key=DEMO_KEY```\n",
    "- Filter documents by a date range:\n",
    "```https://api.regulations.gov/v4/documents?filter[postedDate][ge]=2020-09-01&filter[postedDate][le]=2020-09-01&api_key=DEMO_KEY```\n",
    "- Search for a documentId:\n",
    "```https://api.regulations.gov/v4/documents?filter[searchTerm]=FDA-2009-N-0501-0012&api_key=DEMO_KEY```\n",
    "- Sort documents by posted date in asc:\n",
    "```https://api.regulations.gov/v4/documents?sort=postedDate&api_key=DEMO_KEY```\n",
    "- Sort documents by posted date in desc:\n",
    "- ```https://api.regulations.gov/v4/documents?sort=-postedDate&api_key=DEMO_KEY```"
   ]
  },
  {
   "cell_type": "code",
   "execution_count": 23,
   "metadata": {},
   "outputs": [],
   "source": [
    "# setup the base URL part and endpoint for document search\n",
    "base_url = \"https://api.regulations.gov/\"\n",
    "endpoint = \"v4/documents?\"\n",
    "filt = \"filter\"\n",
    "searchTerm = \"covid\""
   ]
  },
  {
   "cell_type": "code",
   "execution_count": 24,
   "metadata": {},
   "outputs": [],
   "source": [
    "# setup query parameters.\n",
    "# start = \"2020-10-01\"\n",
    "# end = \"2020-10-01\"\n",
    "\n",
    "\n",
    "with open('regapikey.txt', 'r') as keyfile:\n",
    "  apikey = keyfile.read()"
   ]
  },
  {
   "cell_type": "code",
   "execution_count": 29,
   "metadata": {},
   "outputs": [],
   "source": [
    "# build and execute the request using the base URL, plus endpoint, plus query parameters\n",
    "url = base_url + endpoint\n",
    "#query_params = {\"start_date\": start, \"end_date\": end, \"api_key\": apikey}\n",
    "query_params = {\"filter\": filt, \"searchTerm\": searchTerm, \"api_key\": apikey}\n",
    "response = requests.get(url=url, params=query_params)"
   ]
  },
  {
   "cell_type": "code",
   "execution_count": 30,
   "metadata": {},
   "outputs": [
    {
     "name": "stdout",
     "output_type": "stream",
     "text": [
      "Now fetching: https://api.regulations.gov/v4/documents?filter=filter&searchTerm=%5BsearchTerm%5D&api_key=V84HgVMv3Nmx5r6j2q3XvC7VBPOafX1rYuKUtpYF\n"
     ]
    }
   ],
   "source": [
    "print(\"Now fetching: \" + response.url) # print the URL that ultimately got constructed and requested\n",
    "#https://api.regulations.gov/v4/documents?filter[searchTerm]=covid&api_key=DEMO_KEY"
   ]
  },
  {
   "cell_type": "code",
   "execution_count": 15,
   "metadata": {},
   "outputs": [],
   "source": [
    "if response.status_code == 200:\n",
    "  print('Success')\n",
    "  response_string = json.loads(response.text) # load the string version of the response to a json object\n",
    "  print(json.dumps(response_string, indent=2))"
   ]
  },
  {
   "cell_type": "code",
   "execution_count": null,
   "metadata": {},
   "outputs": [],
   "source": []
  }
 ],
 "metadata": {
  "kernelspec": {
   "display_name": "Python 3",
   "language": "python",
   "name": "python3"
  },
  "language_info": {
   "codemirror_mode": {
    "name": "ipython",
    "version": 3
   },
   "file_extension": ".py",
   "mimetype": "text/x-python",
   "name": "python",
   "nbconvert_exporter": "python",
   "pygments_lexer": "ipython3",
   "version": "3.7.4"
  }
 },
 "nbformat": 4,
 "nbformat_minor": 4
}
