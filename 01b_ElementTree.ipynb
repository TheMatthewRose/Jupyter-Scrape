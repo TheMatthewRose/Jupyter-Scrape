{
 "cells": [
  {
   "cell_type": "code",
   "execution_count": 1,
   "metadata": {},
   "outputs": [
    {
     "name": "stdout",
     "output_type": "stream",
     "text": [
      "Successfully fetched http://volweb.utk.edu/~mihli1/demos/case1.xml\n",
      "b'<?xml version = \"1.0\" encoding = \"UTF-8\"?>  <!-- document prolog -->\\n<snacks> <!-- root element -->\\n    <cookies> <!-- an open tag -->\\n        <cookie sellby=\"03/14/2020\">chocolate chip</cookie>\\n        <cookie sellby=\"03/13/2020\">oatmeal raisin</cookie>\\n        <cookie sellby=\"03/15/2020\">peanut butter</cookie>\\n    </cookies> <!-- a close tag -->\\n    <pies>\\n        <pie sellby=\"03/5/2020\">apple</pie>\\n        <pie sellby=\"03/9/2020\">pecan</pie>\\n        <pie sellby=\"03/6/2020\">pumpkin</pie>\\n    </pies>\\n</snacks>\\n'\n",
      "cookies\n",
      "cookie chocolate chip\n",
      "cookie oatmeal raisin\n",
      "cookie peanut butter\n",
      "pies\n",
      "pie apple\n",
      "pie pecan\n",
      "pie pumpkin\n"
     ]
    }
   ],
   "source": [
    "import requests\n",
    "import xml.etree.ElementTree as ET\n",
    "url = \"http://volweb.utk.edu/~mihli1/demos/case1.xml\"\n",
    "\n",
    "r = requests.get(url) # assign what is returned from GET request to a response object called r\n",
    "if r.status_code == 200:\n",
    "  print(\"Successfully fetched \" + url)\n",
    "  print(r.content)\n",
    "  # XML\n",
    "  xml_data = ET.fromstring(r.content)  # plug the returned XML content straight into ElementTree\n",
    "  # remember, these variables are examples of data being stored in memory. We have\n",
    "  # NOT written anything to permanent storage yet by writing to a file\n",
    "\n",
    "  #display one element a time\n",
    "  for elem in xml_data:  # for every child node within root (cookies, pies)\n",
    "    print(elem.tag)  # print the element name. This first level of child nodes also has no text\n",
    "    for subelement in elem:  # for all the subelements in the next level down\n",
    "      print(subelement.tag, subelement.text)  # print the tag and the text, since these have text"
   ]
  },
  {
   "cell_type": "code",
   "execution_count": null,
   "metadata": {},
   "outputs": [],
   "source": []
  }
 ],
 "metadata": {
  "kernelspec": {
   "display_name": "Python 3",
   "language": "python",
   "name": "python3"
  },
  "language_info": {
   "codemirror_mode": {
    "name": "ipython",
    "version": 3
   },
   "file_extension": ".py",
   "mimetype": "text/x-python",
   "name": "python",
   "nbconvert_exporter": "python",
   "pygments_lexer": "ipython3",
   "version": "3.7.4"
  }
 },
 "nbformat": 4,
 "nbformat_minor": 4
}
