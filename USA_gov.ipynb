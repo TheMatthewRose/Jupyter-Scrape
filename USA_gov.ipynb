{
 "cells": [
  {
   "cell_type": "markdown",
   "metadata": {},
   "source": [
    "## USA.gov Data\n",
    "\n",
    "ref: https://www.usa.gov/developer\n",
    "\n",
    "[USA.gov](https://www.usa.gov/) uses GitHub repositories to maintain the documentation for most of our APIs and data feeds.  Using GitHub, you can easily provide feedback to us and ask questions using each repository's issue tracker.  You can also email us any questions you might have regarding our APIs.\n",
    "\n",
    "APIs and Data Feeds from USA.gov\n",
    "USA.gov offers a variety of APIs and data feeds to help developers access and expose quality government information and services from their own websites and applications.  Currently, these APIs include:\n",
    "\n",
    "[Corporate Consumer Contact API](https://github.com/usagov/Corporate-Consumer-Contact-API-Documentation)\n",
    "This API returns a manually curated list of contact information for consumer-related corporations.\n",
    "Style:  RESTful API\n",
    "Return Format:  JSON, JSONP, XML\n",
    "\n",
    "[DigitalGov Search API (formerly USASearch)](https://search.usa.gov/login)\n",
    "Provides DigitalGov Search customers with results. This API is only available for use on official government websites. Sign in is required.  Once you login, you can find the API documentation under the \"activate\" menu.\n",
    "Style:  RESTful API (requires DigitalGov Search account)\n",
    "Return Format:  JSON, JSONP, XML\n",
    "\n",
    "[Federal Agency Directory API ](https://github.com/usagov/Federal-Agency-Directory-API-Documentation)\n",
    "This API contains directory information about federal agencies, such as contact methods, in English and Spanish.\n",
    "Style:  RESTful API\n",
    "Return Format:  JSON, JSONP, XML\n",
    "\n",
    "[Federal Mobile Product API](https://github.com/usagov/Federal-Mobile-Product-API-Documentation)\n",
    "This API contains native and hybrid apps, responsive sites, and mobile websites from across the government, in English and Spanish.\n",
    "Style:  RESTful API\n",
    "Return Format:  JSON, JSONP\n",
    "\n",
    "[Go.USA.gov API](https://go.usa.gov/api)\n",
    "Go.USA.gov is a URL shortener for government employees. The API can shorten, preview, and show clicks on short URLs.\n",
    "Style:  RESTful API\n",
    "Return Format:  JSON, JSONP, XML, plain text\n",
    "\n",
    "[Government Jobs API](http://search.digitalgov.gov/developer/jobs.html)\n",
    "This API returns job openings across the federal government, and includes all current openings posted on USAJobs.gov that are open to the public and located in the United States. It also includes some state and local government jobs.\n",
    "Style:  RESTful API\n",
    "Return Format:  JSON\n",
    "\n",
    "[List of Non-.gov URLs in Our Search](https://github.com/GSA/govt-urls)\n",
    "We search across all federal, state, local, tribal, and territorial government websites. Most government websites end in .gov or .mil, but many do not. This is a list of all government URLs that do not end in .gov or .mil.\n",
    "Style:  JSON, TXT file\n",
    "\n",
    "[Social Media Registry API ](https://github.com/usagov/Social-Media-Registry-API-Documentation)\n",
    "The Social Media Registry is an official source of information about federal government social media accounts.\n",
    "Style:  RESTful API\n",
    "Return Format:  HTML5, JSON, XML\n",
    "\n",
    "## Other Developer Resources\n",
    "Here are some resources for developing with government-provided information and services:\n",
    "\n",
    "[List of developer hubs across government from 18F.](http://18f.github.io/API-All-the-X/pages/developer_hubs)\n",
    "[Data.gov](http://www.data.gov/) provides data, tools, and resources to conduct research, develop web and mobile applications, design data visualizations, and more.\n"
   ]
  },
  {
   "cell_type": "code",
   "execution_count": null,
   "metadata": {},
   "outputs": [],
   "source": []
  }
 ],
 "metadata": {
  "kernelspec": {
   "display_name": "Python 3",
   "language": "python",
   "name": "python3"
  },
  "language_info": {
   "codemirror_mode": {
    "name": "ipython",
    "version": 3
   },
   "file_extension": ".py",
   "mimetype": "text/x-python",
   "name": "python",
   "nbconvert_exporter": "python",
   "pygments_lexer": "ipython3",
   "version": "3.7.4"
  }
 },
 "nbformat": 4,
 "nbformat_minor": 4
}
