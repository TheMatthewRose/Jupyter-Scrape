{
 "cells": [
  {
   "cell_type": "code",
   "execution_count": 1,
   "metadata": {},
   "outputs": [],
   "source": [
    "#https://www.w3schools.com/python/module_requests.asp\n",
    "#https://pypi.org/project/requests/\n",
    "import requests"
   ]
  },
  {
   "cell_type": "code",
   "execution_count": 2,
   "metadata": {},
   "outputs": [],
   "source": [
    "x = requests.get('https://w3schools.com/python/demopage.htm')"
   ]
  },
  {
   "cell_type": "code",
   "execution_count": 3,
   "metadata": {},
   "outputs": [
    {
     "name": "stdout",
     "output_type": "stream",
     "text": [
      "<!DOCTYPE html>\n",
      "<html>\n",
      "<body>\n",
      "\n",
      "<h1>This is a Test Page</h1>\n",
      "\n",
      "</body>\n",
      "</html>\n"
     ]
    }
   ],
   "source": [
    "print(x.text)"
   ]
  },
  {
   "cell_type": "markdown",
   "metadata": {},
   "source": [
    "## Syntax\n",
    "\n",
    "```requests.methodname(params)```\n",
    "\n",
    "## Methods\n",
    "\n",
    "|Method|Description|\n",
    "|-----|-------|\n",
    "|delete(url, args)|Sends a DELETE request to the specified url|\n",
    "|get(url, params, args)|Sends a GET request to the specified url|\n",
    "|head(url, args)|Sends a HEAD request to the specified url|\n",
    "|patch(url, data, args)|Sends a PATCH request to the specified url|\n",
    "|post(url, data, json, args)|Sends a POST request to the specified url|\n",
    "|put(url, data, args)|Sends a PUT request to the specified url|\n",
    "|request(method, url, args)|Sends a request of the specified method to the specified url|"
   ]
  },
  {
   "cell_type": "markdown",
   "metadata": {},
   "source": []
  }
 ],
 "metadata": {
  "kernelspec": {
   "display_name": "Python 3",
   "language": "python",
   "name": "python3"
  },
  "language_info": {
   "codemirror_mode": {
    "name": "ipython",
    "version": 3
   },
   "file_extension": ".py",
   "mimetype": "text/x-python",
   "name": "python",
   "nbconvert_exporter": "python",
   "pygments_lexer": "ipython3",
   "version": "3.7.4"
  }
 },
 "nbformat": 4,
 "nbformat_minor": 4
}
