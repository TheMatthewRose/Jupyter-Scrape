{
 "cells": [
  {
   "cell_type": "code",
   "execution_count": 1,
   "metadata": {},
   "outputs": [
    {
     "name": "stdout",
     "output_type": "stream",
     "text": [
      "html\n",
      "\n",
      "\n",
      "<html lang=\"en\">\n",
      "<head>\n",
      "<meta charset=\"utf-8\"/>\n",
      "<title>Python Demo</title>\n",
      "<style>\n",
      "        .top {color:blue;}\n",
      "        .bottom {color:brown;}\n",
      "    </style>\n",
      "</head>\n",
      "<body>\n",
      "<h2>Top</h2>\n",
      "<p class=\"top\">This is the first paragraph</p>\n",
      "<p class=\"top\">This is the second paragraph</p>\n",
      "<h2>Middle</h2>\n",
      "<p>This is the <b>middle</b> paragraph</p>\n",
      "<h2>Bottom</h2>\n",
      "<p class=\"bottom\">This is the fourth paragraph</p>\n",
      "<p class=\"bottom\">This is the fifth paragraph</p>\n",
      "</body>\n",
      "</html>\n",
      "\n",
      "\n",
      "\n",
      "\n",
      "This is the first paragraph\n",
      "This is the second paragraph\n",
      "This is the middle paragraph\n",
      "<b>middle</b> is in BOLD!\n",
      "This is the fourth paragraph\n",
      "This is the fifth paragraph\n",
      "<p class=\"top\">This is the first paragraph</p>\n"
     ]
    }
   ],
   "source": [
    "import requests\n",
    "from bs4 import BeautifulSoup # this handles parsing data from html content\n",
    "\n",
    "url = \"http://volweb.utk.edu/~mihli1/demos/case3.html\"\n",
    "response = requests.get(url)\n",
    "soup = BeautifulSoup(response.content,\n",
    "                     \"html.parser\")\n",
    "\n",
    "for child in soup.children:\n",
    "  print(child)  # will print ALL the children of the top-level document\n",
    "\n",
    "print('\\n')\n",
    "\n",
    "# search by tag\n",
    "paragraphs = soup.find_all('p')  # find every html element with a P tag. returns a ResultSet (like a list) of tags\n",
    "for p in paragraphs:  # iterate over all the tags in the set of results\n",
    "  print(p.text)  # print the text of the current tag\n",
    "  if p.b:  # if searching for a <b> tag inside the current <p> doesn't return None\n",
    "    print(\"{} is in BOLD!\".format(p.b))  # then print something\n",
    "\n",
    "print(soup.p)  # print just the first p soup finds"
   ]
  },
  {
   "cell_type": "code",
   "execution_count": null,
   "metadata": {},
   "outputs": [],
   "source": []
  }
 ],
 "metadata": {
  "kernelspec": {
   "display_name": "Python 3",
   "language": "python",
   "name": "python3"
  },
  "language_info": {
   "codemirror_mode": {
    "name": "ipython",
    "version": 3
   },
   "file_extension": ".py",
   "mimetype": "text/x-python",
   "name": "python",
   "nbconvert_exporter": "python",
   "pygments_lexer": "ipython3",
   "version": "3.7.4"
  }
 },
 "nbformat": 4,
 "nbformat_minor": 4
}
