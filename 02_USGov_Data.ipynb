{
 "cells": [
  {
   "cell_type": "markdown",
   "metadata": {},
   "source": [
    "## 02 US Government Data Sources\n",
    "\n",
    "- [regulations.gov](https://www.regulations.gov/)\n",
    "- [usa.gov](https://www.usa.gov/statistics)\n",
    "- [data.gov](https://www.data.gov/)\n",
    "- [nasa.gov](https://data.nasa.gov/browse)\n",
    "- [osha.gov](https://www.osha.gov/data)\n",
    "- [cdc.gov](https://www.cdc.gov/datastatistics/index.html)\n",
    "- [nih.gov](https://report.nih.gov/nihdatabook/)\n",
    "- [USA Facts](https://usafacts.org/data-sources/)\n",
    "- [congress.gov](https://www.congress.gov/about/data)\n",
    "- [govinfo.gov](https://www.govinfo.gov/developers)\n",
    "- [loc.gov](https://www.loc.gov/collections/)\n",
    "- [census.gov](https://www.census.gov/data.html)\n",
    "- [uscode.house.gov](https://uscode.house.gov/)\n",
    "- [labs.loc.gov](https://labs.loc.gov/lc-for-robots/)\n",
    "- [docs.house.gov](https://docs.house.gov/)\n",
    "- [clerk.house.gov](https://clerk.house.gov/)\n",
    "- [senate.gov](https://www.senate.gov/general/XML.htm)\n",
    "- [govinfo.gov/bulkdata](https://www.govinfo.gov/bulkdata/BILLSUM)\n",
    "- [nist.gov](https://www.nist.gov/srd)\n",
    "- [kaggle.com](https://www.kaggle.com/search?q=corona)\n",
    "- [datascience.nih.gov](https://datascience.nih.gov/covid-19-open-access-resources)\n",
    "- [healthdata.gov](https://healthdata.gov/)\n",
    "- [cdc.gov covid](https://www.cdc.gov/library/researchguides/2019novelcoronavirus/databasesjournals.html)\n",
    "- [transportation.gov](https://www.transportation.gov/data)\n",
    "- [vdh.virginia.gov](https://www.vdh.virginia.gov/coronavirus/)\n",
    "- []()\n",
    "- []()\n",
    "- []()\n",
    "\n",
    "\n"
   ]
  },
  {
   "cell_type": "markdown",
   "metadata": {},
   "source": [
    "## more data sources from Challenge.gov\n",
    "You must submit your creation through challenge.gov.\n",
    "You must use at least one congressional data set from Congress.gov, You may access the data directly from Congress.gov or though the Government Publishing Office, which, in partnership with the Library of Congress, the Office of the Clerk of the U.S. House of Representatives, and the Office of the Secretary of the Senate, hosts bulk data from Congress.gov for download.\n",
    "About Congress.gov bulk data https://www.congress.gov/about/data\n",
    "User guide for bill status XML bulk data https://github.com/usgpo/bill-status/blob/master/BILLSTATUS-XML_User_User-Guide.md\n",
    "Bulk data for bills, bill status, and bill summaries https://www.gpo.gov/fdsys/bulkdata/BILLS https://www.gpo.gov/fdsys/bulkdata/BILLSTATUS https://www.gpo.gov/fdsys/bulkdata/BILLSUM See the GPO Developer Hub for further details (https://www.govinfo.gov/developers)\n",
    "Congress.gov search downloads (https://blogs.loc.gov/law/2017/04/how-to-download-your-congress-gov-search-results/)\n",
    "Congressional Record https://www.congress.gov/congressional-record/\n",
    "You may integrate data from any additional data set, except that you may only use publicly-available information. You may not use any data that:\n",
    "Is only available for commercial purchase\n",
    "Uses or requires others to use copyright-protected content in a way that violates copyright laws or regulations\n",
    "Contains personally-identifiable information (such as individuals’ names, residential addresses, email addresses, phone numbers, and social security numbers)\n",
    "You must submit a link to a video as described in these rules below. Please contact the contest administrators if you are an individual with a disability and require assistance in meeting this requirement.\n",
    "You must publish the source code of your creation, publish it under a CC0 1.0 universal license, and make it available through a publicly-accessible URL.\n",
    "You may use open-source libraries in your submission. If the license of that open-source library requires using a license other than CC0, this will not disqualify your submission. Where there is a choice available, use the most permissive license (i.e., the one allowing the broadest unconditioned use. Please avoid viral licenses such as GPL.).  Please include a short note explaining this in your essay.\n",
    "\n",
    "Additional Government Data Sets. You may also be interested in the following government data sets:\n",
    "Our digital collections (https://www.loc.gov/collections/). Information about machine-readable access is available on our LC Labs website https://labs.loc.gov/lc-for-robots/. ** Note that not all Library digital collections are in the public domain.\n",
    "Census Data https://www.census.gov/data.html\n",
    "GPO’s Federal Digital System https://www.gpo.gov/fdsys/browse/collectiontab.action\n",
    "GPO’s govinfo www.govinfo.gov\n",
    "Office of the Law Revision Counsel U.S. Code http://uscode.house.gov/\n",
    "Federal Register Bulk Data and API https://www.gpo.gov/fdsys/bulkdata/FR https://www.federalregister.gov/reader-aids/developer-resources/rest-api\n",
    "U.S. House of Representatives Document Repository http://docs.house.gov/\n",
    "U.S. House of Representatives Floor Proceedings http://clerk.house.gov/floorsummary/HDoc-115-1-FloorProceedings.xml\n",
    "U.S. House of Representatives Roll Call Votes http://clerk.house.gov/legislative/legvotes.aspx\n",
    "Senate.gov XML Sources https://www.senate.gov/general/XML.htm\n",
    "U.S. Senate Roll Call Vote Lists and Votes Vote Lists: (Sample: 111th Cong., 2nd Sess.) http://www.senate.gov/legislative/LIS/roll_call_lists/vote_menu_111_2.xml Votes: (Sample: 111th Cong., 2nd Sess., Roll Call Vote No. 1) https://www.senate.gov/legislative/LIS/roll_call_votes/vote1112/vote_111_2_00001.xml"
   ]
  },
  {
   "cell_type": "markdown",
   "metadata": {},
   "source": [
    "## other data sources on Covid\n",
    "https://datasmart.ash.harvard.edu/news/article/covid-19-response-open-data-resources-local-government-leaders\n",
    "https://www.nature.com/articles/s41597-020-00609-9\n",
    "https://www.nature.com/articles/s41562-020-0909-7\n",
    "https://www.bruegel.org/publications/datasets/covid-national-dataset/"
   ]
  },
  {
   "cell_type": "code",
   "execution_count": null,
   "metadata": {},
   "outputs": [],
   "source": []
  }
 ],
 "metadata": {
  "kernelspec": {
   "display_name": "Python 3",
   "language": "python",
   "name": "python3"
  },
  "language_info": {
   "codemirror_mode": {
    "name": "ipython",
    "version": 3
   },
   "file_extension": ".py",
   "mimetype": "text/x-python",
   "name": "python",
   "nbconvert_exporter": "python",
   "pygments_lexer": "ipython3",
   "version": "3.7.4"
  }
 },
 "nbformat": 4,
 "nbformat_minor": 4
}
