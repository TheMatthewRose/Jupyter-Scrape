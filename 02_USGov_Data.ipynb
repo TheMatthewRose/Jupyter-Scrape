{
 "cells": [
  {
   "cell_type": "markdown",
   "metadata": {},
   "source": [
    "## 02 US Government Data Sources\n",
    "\n",
    "- [regulations.gov](https://www.regulations.gov/)\n",
    "- [usa.gov](https://www.usa.gov/statistics)\n",
    "- [data.gov](https://www.data.gov/)\n",
    "- [nasa.gov](https://data.nasa.gov/browse)\n",
    "- [osha.gov](https://www.osha.gov/data)\n",
    "- [cdc.gov](https://www.cdc.gov/datastatistics/index.html)\n",
    "- [nih.gov](https://report.nih.gov/nihdatabook/)\n",
    "- [USA Facts](https://usafacts.org/data-sources/)\n",
    "\n"
   ]
  },
  {
   "cell_type": "code",
   "execution_count": null,
   "metadata": {},
   "outputs": [],
   "source": []
  }
 ],
 "metadata": {
  "kernelspec": {
   "display_name": "Python 3",
   "language": "python",
   "name": "python3"
  },
  "language_info": {
   "codemirror_mode": {
    "name": "ipython",
    "version": 3
   },
   "file_extension": ".py",
   "mimetype": "text/x-python",
   "name": "python",
   "nbconvert_exporter": "python",
   "pygments_lexer": "ipython3",
   "version": "3.7.4"
  }
 },
 "nbformat": 4,
 "nbformat_minor": 4
}
